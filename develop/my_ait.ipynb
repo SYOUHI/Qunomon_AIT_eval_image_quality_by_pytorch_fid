{
 "cells": [
  {
   "cell_type": "markdown",
   "metadata": {
    "deletable": false,
    "editable": false
   },
   "source": [
    "# AIT Development notebook"
   ]
  },
  {
   "cell_type": "markdown",
   "metadata": {
    "deletable": false,
    "editable": false
   },
   "source": [
    "## notebook of structure"
   ]
  },
  {
   "cell_type": "markdown",
   "metadata": {
    "deletable": false,
    "editable": false
   },
   "source": [
    "| #  | Name                                               | cells | for_dev | edit               | description                                                                |\n",
    "|----|----------------------------------------------------|-------|---------|--------------------|----------------------------------------------------------------------------|\n",
    "| 1  | [Environment detection](##1-Environment-detection) | 1     | No      | uneditable         | detect whether the notebook are invoked for packaging or in production     |\n",
    "| 2  | [Preparing AIT SDK](##2-Preparing-AIT-SDK)         | 1     | Yes     | uneditable         | download and install AIT SDK                                               |\n",
    "| 3  | [Dependency Management](##3-Dependency-Management) | 3     | Yes     | required(cell #2)  | generate requirements.txt for Docker container                             |\n",
    "| 4  | [Importing Libraries](##4-Importing-Libraries)     | 2     | Yes     | required(cell #1)  | import required libraries                                                  |\n",
    "| 5  | [Manifest Generation](##5-Manifest-Generation)     | 1     | Yes     | required           | generate AIT Manifest                                                      |\n",
    "| 6  | [Prepare for the Input](##6-Prepare-for-the-Input) | 1     | Yes     | required           | generate AIT Input JSON (inventory mapper)                                 |\n",
    "| 7  | [Initialization](##7-Initialization)               | 1     | No      | uneditable         | initialization for AIT execution                                           |\n",
    "| 8  | [Function definitions](##8-Function-definitions)   | N     | No      | required           | define functions invoked from Main area.<br> also define output functions. |\n",
    "| 9  | [Main Algorithms](##9-Main-Algorithms)             | 1     | No      | required           | area for main algorithms of an AIT                                         |\n",
    "| 10 | [Entry point](##10-Entry-point)                    | 1     | No      | uneditable         | an entry point where Qunomon invoke this AIT from here                     |\n",
    "| 11 | [License](##11-License)                            | 1     | Yes     | required           | generate license information                                               |\n",
    "| 12 | [Deployment](##12-Deployment)                      | 1     | Yes     | uneditable         | convert this notebook to the python file for packaging purpose             |"
   ]
  },
  {
   "cell_type": "markdown",
   "metadata": {
    "deletable": false,
    "editable": false
   },
   "source": [
    "## notebook template revision history"
   ]
  },
  {
   "cell_type": "markdown",
   "metadata": {
    "deletable": false,
    "editable": false
   },
   "source": [
    "1.0.1 2020/10/21\n",
    "\n",
    "* add revision history\n",
    "* separate `create requirements and pip install` editable and noeditable\n",
    "* separate `import` editable and noeditable\n",
    "\n",
    "1.0.0 2020/10/12\n",
    "\n",
    "* new cerarion"
   ]
  },
  {
   "cell_type": "markdown",
   "metadata": {
    "deletable": false,
    "editable": false
   },
   "source": [
    "## body"
   ]
  },
  {
   "cell_type": "markdown",
   "metadata": {
    "deletable": false,
    "editable": false
   },
   "source": [
    "### #1 Environment detection"
   ]
  },
  {
   "cell_type": "markdown",
   "metadata": {
    "deletable": false,
    "editable": false
   },
   "source": [
    "[uneditable]"
   ]
  },
  {
   "cell_type": "code",
   "execution_count": 1,
   "metadata": {
    "deletable": false,
    "editable": false
   },
   "outputs": [],
   "source": [
    "# Determine whether to start AIT or jupyter by startup argument\n",
    "import sys\n",
    "is_ait_launch = (len(sys.argv) == 2)"
   ]
  },
  {
   "cell_type": "markdown",
   "metadata": {
    "deletable": false,
    "editable": false
   },
   "source": [
    "### #2 Preparing AIT SDK"
   ]
  },
  {
   "cell_type": "markdown",
   "metadata": {
    "deletable": false,
    "editable": false
   },
   "source": [
    "[uneditable]"
   ]
  },
  {
   "cell_type": "code",
   "execution_count": 2,
   "metadata": {
    "deletable": false,
    "editable": false
   },
   "outputs": [
    {
     "name": "stdout",
     "output_type": "stream",
     "text": [
      "\u001b[33mWARNING: Running pip as the 'root' user can result in broken permissions and conflicting behaviour with the system package manager, possibly rendering your system unusable.It is recommended to use a virtual environment instead: https://pip.pypa.io/warnings/venv. Use the --root-user-action option if you know what you are doing and want to suppress this warning.\u001b[0m\u001b[33m\n",
      "\u001b[0m\u001b[33mWARNING: Running pip as the 'root' user can result in broken permissions and conflicting behaviour with the system package manager, possibly rendering your system unusable.It is recommended to use a virtual environment instead: https://pip.pypa.io/warnings/venv. Use the --root-user-action option if you know what you are doing and want to suppress this warning.\u001b[0m\u001b[33m\n",
      "\u001b[0m"
     ]
    }
   ],
   "source": [
    "if not is_ait_launch:\n",
    "    # get ait-sdk file name\n",
    "    from pathlib import Path\n",
    "    from glob import glob\n",
    "    import re\n",
    "    import os\n",
    "\n",
    "    current_dir = %pwd\n",
    "\n",
    "    ait_sdk_path = \"./ait_sdk-*-py3-none-any.whl\"\n",
    "    ait_sdk_list = glob(ait_sdk_path)\n",
    "    ait_sdk_name = os.path.basename(ait_sdk_list[-1])\n",
    "\n",
    "    # install ait-sdk\n",
    "    !pip install -q --upgrade pip\n",
    "    !pip install -q --no-deps --force-reinstall ./$ait_sdk_name"
   ]
  },
  {
   "cell_type": "markdown",
   "metadata": {
    "deletable": false,
    "editable": false
   },
   "source": [
    "### #3 Dependency Management"
   ]
  },
  {
   "cell_type": "markdown",
   "metadata": {
    "deletable": false,
    "editable": false
   },
   "source": [
    "#### #3-1 [uneditable]"
   ]
  },
  {
   "cell_type": "code",
   "execution_count": 3,
   "metadata": {
    "deletable": false,
    "editable": false
   },
   "outputs": [],
   "source": [
    "if not is_ait_launch:\n",
    "    from ait_sdk.common.files.ait_requirements_generator import AITRequirementsGenerator\n",
    "    requirements_generator = AITRequirementsGenerator()"
   ]
  },
  {
   "cell_type": "markdown",
   "metadata": {
    "deletable": false,
    "editable": false
   },
   "source": [
    "#### #3-2 [required]"
   ]
  },
  {
   "cell_type": "code",
   "execution_count": 4,
   "metadata": {},
   "outputs": [],
   "source": [
    "if not is_ait_launch:\n",
    "    requirements_generator.add_package('torch', '2.0.1')\n",
    "    requirements_generator.add_package('torchvision', '0.15.2')\n",
    "    requirements_generator.add_package('pytorch-fid', '0.3.0')\n",
    "    requirements_generator.add_package('numpy', '1.24.4')\n",
    "    requirements_generator.add_package('mmcv-full', '1.3.16')\n",
    "    requirements_generator.add_package('mmgen', '0.6.0')\n",
    "    requirements_generator.add_package('opencv-python', '4.10.0.84')\n",
    "    requirements_generator.add_package('click', '8.1.7')\n",
    "    requirements_generator.add_package('prettytable', '3.11.0')\n",
    "    requirements_generator.add_package('mmcls', '0.18.0')\n",
    "    requirements_generator.add_package('matplotlib', '3.5.0')"
   ]
  },
  {
   "cell_type": "markdown",
   "metadata": {
    "deletable": false,
    "editable": false
   },
   "source": [
    "#### #3-3 [uneditable]"
   ]
  },
  {
   "cell_type": "code",
   "execution_count": 5,
   "metadata": {
    "deletable": false,
    "editable": false
   },
   "outputs": [
    {
     "name": "stdout",
     "output_type": "stream",
     "text": [
      "\u001b[33mWARNING: Running pip as the 'root' user can result in broken permissions and conflicting behaviour with the system package manager, possibly rendering your system unusable.It is recommended to use a virtual environment instead: https://pip.pypa.io/warnings/venv. Use the --root-user-action option if you know what you are doing and want to suppress this warning.\u001b[0m\u001b[33m\n",
      "\u001b[0m"
     ]
    }
   ],
   "source": [
    "if not is_ait_launch:\n",
    "    requirements_generator.add_package(f'./{ait_sdk_name}')\n",
    "    requirements_path = requirements_generator.create_requirements(current_dir)\n",
    "\n",
    "    !pip install -q -r $requirements_path "
   ]
  },
  {
   "cell_type": "markdown",
   "metadata": {
    "deletable": false,
    "editable": false
   },
   "source": [
    "### #4 Importing Libraries"
   ]
  },
  {
   "cell_type": "markdown",
   "metadata": {
    "deletable": false,
    "editable": false
   },
   "source": [
    "#### #4-1 [required]"
   ]
  },
  {
   "cell_type": "code",
   "execution_count": 6,
   "metadata": {},
   "outputs": [],
   "source": [
    "import torch\n",
    "from torchvision import transforms\n",
    "from pytorch_fid import fid_score\n",
    "import numpy as np\n",
    "import os\n",
    "from PIL import Image\n",
    "from torchvision.utils import save_image"
   ]
  },
  {
   "cell_type": "markdown",
   "metadata": {
    "deletable": false,
    "editable": false
   },
   "source": [
    "#### #4-2 [uneditable]"
   ]
  },
  {
   "cell_type": "code",
   "execution_count": 7,
   "metadata": {
    "deletable": false,
    "editable": false
   },
   "outputs": [],
   "source": [
    "# must use modules\n",
    "from os import path\n",
    "import shutil  # do not remove\n",
    "from ait_sdk.common.files.ait_input import AITInput  # do not remove\n",
    "from ait_sdk.common.files.ait_output import AITOutput  # do not remove\n",
    "from ait_sdk.common.files.ait_manifest import AITManifest  # do not remove\n",
    "from ait_sdk.develop.ait_path_helper import AITPathHelper  # do not remove\n",
    "from ait_sdk.utils.logging import get_logger, log, get_log_path  # do not remove\n",
    "from ait_sdk.develop.annotation import measures, resources, downloads, ait_main  # do not remove\n",
    "# must use modules"
   ]
  },
  {
   "cell_type": "markdown",
   "metadata": {
    "deletable": false,
    "editable": false
   },
   "source": [
    "### #5 Manifest Generation"
   ]
  },
  {
   "cell_type": "markdown",
   "metadata": {
    "deletable": false,
    "editable": false
   },
   "source": [
    "[required]"
   ]
  },
  {
   "cell_type": "code",
   "execution_count": 8,
   "metadata": {},
   "outputs": [],
   "source": [
    "if not is_ait_launch:\n",
    "    from ait_sdk.common.files.ait_manifest_generator import AITManifestGenerator\n",
    "    manifest_genenerator = AITManifestGenerator(current_dir)\n",
    "    manifest_genenerator.set_ait_name('eval_image_quality_by_pytorch_fid')\n",
    "    manifest_genenerator.set_ait_description('PyTorchベースの画像生成モデル（対応可能なモデルはreferencesを参照）の品質を評価するため、Fréchet Inception Distance (FID)を計算することで、生成された画像の品質を数値化し、実際の画像データセットとの類似性を評価する')\n",
    "    manifest_genenerator.set_ait_source_repository('https://github.com/aistairc/Qunomon_AIT_eval_image_quality_by_pytorch_fid')\n",
    "    manifest_genenerator.set_ait_version('1.0')\n",
    "    manifest_genenerator.add_ait_licenses('Apache License Version 2.0')\n",
    "    manifest_genenerator.add_ait_keywords('pytorch-fid')\n",
    "    manifest_genenerator.add_ait_keywords('image change')\n",
    "    manifest_genenerator.set_ait_quality('https://ait-hub.pj.aist.go.jp/ait-hub/api/0.0.1/qualityDimensions/機械学習品質マネジメントガイドライン第三版/C-1機械学習モデルの正確性')\n",
    "\n",
    "    #モデルとデータセットを設定 \n",
    "    inventory_requirement_images = manifest_genenerator.format_ait_inventory_requirement(format_=['DIR'])\n",
    "    manifest_genenerator.add_ait_inventories(name='benchmark_image_dir', \n",
    "                                             type_='dataset', \n",
    "                                             description='入力対象データセットのディレクトリ (すべて画像ファイルを一つフォルダに配置してください) ※イメージファイル形式については、JPEG/JPG、PNG、GIF、BMP、TIFFの画像形式をサポートしています。', \n",
    "                                             requirement=inventory_requirement_images)\n",
    "    inventory_model = manifest_genenerator.format_ait_inventory_requirement(format_=['pt','pth'])\n",
    "    manifest_genenerator.add_ait_inventories(name='pytorch_model', \n",
    "                                             type_='model', \n",
    "                                             description='pytorchでトレーニング済みGANs画像生成モデルのみサポートされている。\\n (モデルのアーキテクチャをつけて保存が必要 例:torch.save(model, モデル名称))', \n",
    "                                             requirement=inventory_model)\n",
    "    \n",
    "    # パラメータ\n",
    "    manifest_genenerator.add_ait_parameters(name='target_domain',\n",
    "                                            type_='str',\n",
    "                                            description='モデルで画像生成する時、渡すパラメータ（モデルによって、値が変わります。詳細はreferencesを参照）',\n",
    "                                            default_val='winter')\n",
    "    \n",
    "    # references\n",
    "    manifest_genenerator.add_ait_references(bib_info='MMGeneration is a powerful toolkit for generative models, especially for GANs now. It is based on PyTorch and MMCV. The master branch works with PyTorch 1.5+.',\n",
    "                                            url='https://github.com/open-mmlab/mmgeneration/blob/master/configs/cyclegan/README.md')\n",
    "    manifest_genenerator.add_ait_references(bib_info='MMGeneration is a powerful toolkit for generative models, especially for GANs now. It is based on PyTorch and MMCV. The master branch works with PyTorch 1.5+.',\n",
    "                                            url='https://github.com/open-mmlab/mmgeneration/blob/master/configs/pix2pix/README.md')\n",
    "    manifest_genenerator.add_ait_references(bib_info='GANs Trained by a Two Time-Scale Update Rule Converge to a Local Nash Equilibrium',\n",
    "                                            url='https://arxiv.org/abs/1706.08500')\n",
    "    \n",
    "    # レポート\n",
    "    manifest_genenerator.add_ait_measures(name='FID_Score',\n",
    "                                          type_='float',\n",
    "                                          structure='single',\n",
    "                                          min='0',\n",
    "                                          description='計算されたFIDスコア \\n ※モデルの品質評価の観点からの基準:\\n FID ≈ 0: 理想的なモデルの状態。生成画像が実際の画像とほぼ見分けがつかないレベル。\\n FID < 10: 非常に高品質なモデル。生成画像が実際の画像と非常に近い。\\n FID < 30: 実用的な品質のモデル。生成画像は実際の画像と多少異なるが、十分な品質を持つ。\\n FID > 100: モデルの品質が低く、生成画像が実際の画像と大きく異なる。改善が必要。')\n",
    "\n",
    "    manifest_genenerator.add_ait_resources(name='generated_images_sample',\n",
    "                                           type_='picture',\n",
    "                                           description='生成された画像のサンプル ※３枚まで表示')\n",
    "\n",
    "    # ダウンロード\n",
    "    manifest_genenerator.add_ait_downloads(name='generated_images',\n",
    "                                           description='生成された画像のZIPファイル')\n",
    "\n",
    "    manifest_genenerator.add_ait_downloads(name='Log',\n",
    "                                           description='AIT実行ログ')\n",
    "    \n",
    "    manifest_path = manifest_genenerator.write()"
   ]
  },
  {
   "cell_type": "markdown",
   "metadata": {
    "deletable": false,
    "editable": false
   },
   "source": [
    "### #6 Prepare for the Input"
   ]
  },
  {
   "cell_type": "markdown",
   "metadata": {
    "deletable": false,
    "editable": false
   },
   "source": [
    "[required]"
   ]
  },
  {
   "cell_type": "code",
   "execution_count": 9,
   "metadata": {},
   "outputs": [],
   "source": [
    "if not is_ait_launch:\n",
    "    from ait_sdk.common.files.ait_input_generator import AITInputGenerator\n",
    "    input_generator = AITInputGenerator(manifest_path)\n",
    "    input_generator.add_ait_inventories(name='benchmark_image_dir', value='benchmark_image_dir')\n",
    "    input_generator.add_ait_inventories(name='pytorch_model', value='pytorch_model/cyclegansummer2winter.pth')\n",
    "    input_generator.set_ait_params(name='target_domain', value='winter')\n",
    "    input_generator.write()"
   ]
  },
  {
   "cell_type": "markdown",
   "metadata": {
    "deletable": false,
    "editable": false
   },
   "source": [
    "### #7 Initialization"
   ]
  },
  {
   "cell_type": "markdown",
   "metadata": {
    "deletable": false,
    "editable": false
   },
   "source": [
    "[uneditable]"
   ]
  },
  {
   "cell_type": "code",
   "execution_count": 10,
   "metadata": {
    "deletable": false,
    "editable": false
   },
   "outputs": [],
   "source": [
    "logger = get_logger()\n",
    "\n",
    "ait_manifest = AITManifest()\n",
    "ait_input = AITInput(ait_manifest)\n",
    "ait_output = AITOutput(ait_manifest)\n",
    "\n",
    "if is_ait_launch:\n",
    "    # launch from AIT\n",
    "    current_dir = path.dirname(path.abspath(__file__))\n",
    "    path_helper = AITPathHelper(argv=sys.argv, ait_input=ait_input, ait_manifest=ait_manifest, entry_point_dir=current_dir)\n",
    "else:\n",
    "    # launch from jupyter notebook\n",
    "    # ait.input.json make in input_dir\n",
    "    input_dir = '/usr/local/qai/mnt/ip/job_args/1/1'\n",
    "    current_dir = %pwd\n",
    "    path_helper = AITPathHelper(argv=['', input_dir], ait_input=ait_input, ait_manifest=ait_manifest, entry_point_dir=current_dir)\n",
    "\n",
    "ait_input.read_json(path_helper.get_input_file_path())\n",
    "ait_manifest.read_json(path_helper.get_manifest_file_path())\n",
    "\n",
    "### do not edit cell"
   ]
  },
  {
   "cell_type": "markdown",
   "metadata": {
    "deletable": false,
    "editable": false
   },
   "source": [
    "### #8 Function definitions"
   ]
  },
  {
   "cell_type": "markdown",
   "metadata": {
    "deletable": false,
    "editable": false
   },
   "source": [
    "[required]"
   ]
  },
  {
   "cell_type": "code",
   "execution_count": 11,
   "metadata": {},
   "outputs": [],
   "source": [
    "@log(logger)\n",
    "def generate_images(model, image_dir, device, target_domain):\n",
    "    # 指定されたパスから画像ファイルを取得\n",
    "    image_files = [f for f in os.listdir(image_dir) if f.endswith(('.jpg', '.jpeg', '.png', '.gif', '.bmp', '.tiff'))]\n",
    "    # 画像数をカウント\n",
    "    num_images = len(image_files)\n",
    "    # 生成した画像を保存するためのリスト\n",
    "    generated_images = []\n",
    "    # 画像の前処理を定義（リサイズ、Tensor変換、正規化）\n",
    "    transform = transforms.Compose([\n",
    "        transforms.Resize((256, 256)),  # 画像サイズを調整（ここでは256x256）\n",
    "        transforms.ToTensor(),          # 画像をTensorに変換\n",
    "        transforms.Normalize([0.5], [0.5], [0.5])  # 画像のピクセル値を[-1, 1]に正規化\n",
    "    ])\n",
    "    # すべての画像を処理\n",
    "    for img_file in image_files:\n",
    "        img_path = os.path.join(image_dir, img_file)\n",
    "        # 画像を読み込み\n",
    "        image = Image.open(img_path).convert('RGB')\n",
    "        # 前処理を適用してTensorに変換\n",
    "        tensor_image = transform(image).unsqueeze(0).to(device)\n",
    "        # モデルで新しい画像を生成\n",
    "        with torch.no_grad():\n",
    "            results = model(img=tensor_image, test_mode=True, target_domain=target_domain)\n",
    "            output = results['target']\n",
    "        # 生成された画像を保存\n",
    "        generated_images.append(output.cpu())\n",
    "\n",
    "    return generated_images\n",
    "        \n",
    "def save_generated_images(images, generated_images_path):\n",
    "    # 保存先ディレクトリ存在しない場合を作成\n",
    "    os.makedirs(generated_images_path, exist_ok=True)\n",
    "    for i, img in enumerate(images):\n",
    "        if img.dim() == 2:  # 2次元の場合\n",
    "            img = img.unsqueeze(0)  # バッチ次元を追加\n",
    "        elif img.dim() == 3:  # 3次元の場合（C, H, W）\n",
    "            img = img.unsqueeze(0)  # バッチ次元を追加\n",
    "        \n",
    "        # 画像を保存\n",
    "        img = (img + 1) / 2\n",
    "        save_image(img, os.path.join(generated_images_path, f'generated_image_{i}.png'))"
   ]
  },
  {
   "cell_type": "code",
   "execution_count": 12,
   "metadata": {},
   "outputs": [],
   "source": [
    "@log(logger)\n",
    "@measures(ait_output, 'FID_Score')\n",
    "# FID計算\n",
    "def calculate_fid(real_images_path, generated_images_path, device):\n",
    "    # 計算FID\n",
    "    fid_value = fid_score.calculate_fid_given_paths(\n",
    "        [real_images_path, generated_images_path],\n",
    "        batch_size=1,\n",
    "        device=device,\n",
    "        dims=2048\n",
    "    )\n",
    "    \n",
    "    return fid_value"
   ]
  },
  {
   "cell_type": "code",
   "execution_count": 13,
   "metadata": {},
   "outputs": [],
   "source": [
    "@log(logger)\n",
    "@downloads(ait_output, path_helper, 'Log', 'ait.log')\n",
    "def move_log(file_path: str=None) -> str:\n",
    "    shutil.move(get_log_path(), file_path)"
   ]
  },
  {
   "cell_type": "markdown",
   "metadata": {
    "deletable": false,
    "editable": false
   },
   "source": [
    "### #9 Main Algorithms"
   ]
  },
  {
   "cell_type": "markdown",
   "metadata": {
    "deletable": false,
    "editable": false
   },
   "source": [
    "[required]"
   ]
  },
  {
   "cell_type": "code",
   "execution_count": 14,
   "metadata": {},
   "outputs": [],
   "source": [
    "@log(logger)\n",
    "@ait_main(ait_output, path_helper, is_ait_launch)\n",
    "def main() -> None:\n",
    "    # デバイスの設定\n",
    "    device = torch.device('cuda' if torch.cuda.is_available() else 'cpu')\n",
    "    # パラメータ\n",
    "    target_domain = ait_input.get_method_param_value('target_domain')\n",
    "    # 画像パス\n",
    "    real_images_path = ait_input.get_inventory_path('benchmark_image_dir')\n",
    "    # 画像生成モデルパス\n",
    "    model_path = ait_input.get_inventory_path('pytorch_model')\n",
    "    # モデルロード  \n",
    "    model = torch.load(model_path, map_location=device)\n",
    "    model.eval()\n",
    "    # 用意したモデルで画像を生成する\n",
    "    generated_images = generate_images(model, real_images_path, device, target_domain)\n",
    "    # 生成した画像を保存\n",
    "    save_generated_images(generated_images, \"generated_images\")\n",
    "    # FID計算\n",
    "    fid_value = calculate_fid(real_images_path, \"generated_images\", device)\n",
    "    # FID整形\n",
    "    fid_value = str(round(fid_value, 8))\n",
    "    print(f\"FID_Score: {fid_value}\")\n",
    "    \n",
    "    # Output FID result\n",
    "    ait_output.add_measure('FID_Score', fid_value)"
   ]
  },
  {
   "cell_type": "markdown",
   "metadata": {
    "deletable": false,
    "editable": false
   },
   "source": [
    "### #10 Entry point"
   ]
  },
  {
   "cell_type": "markdown",
   "metadata": {
    "deletable": false,
    "editable": false
   },
   "source": [
    "[uneditable]"
   ]
  },
  {
   "cell_type": "code",
   "execution_count": 15,
   "metadata": {
    "deletable": false,
    "editable": false
   },
   "outputs": [
    {
     "name": "stderr",
     "output_type": "stream",
     "text": [
      "Downloading: \"https://github.com/mseitzer/pytorch-fid/releases/download/fid_weights/pt_inception-2015-12-05-6726825d.pth\" to /root/.cache/torch/hub/checkpoints/pt_inception-2015-12-05-6726825d.pth\n",
      "100%|██████████| 91.2M/91.2M [00:03<00:00, 24.0MB/s]\n",
      "100%|██████████| 309/309 [00:24<00:00, 12.57it/s]\n",
      "100%|██████████| 309/309 [00:24<00:00, 12.71it/s]\n"
     ]
    },
    {
     "name": "stdout",
     "output_type": "stream",
     "text": [
      "FID_Score: 43.35701027\n"
     ]
    }
   ],
   "source": [
    "if __name__ == '__main__':\n",
    "    main()"
   ]
  },
  {
   "cell_type": "markdown",
   "metadata": {
    "deletable": false,
    "editable": false
   },
   "source": [
    "### #11 License"
   ]
  },
  {
   "cell_type": "markdown",
   "metadata": {
    "deletable": false,
    "editable": false
   },
   "source": [
    "[required]"
   ]
  },
  {
   "cell_type": "code",
   "execution_count": 16,
   "metadata": {},
   "outputs": [],
   "source": [
    "## sample ##\n",
    "ait_owner='AIST'\n",
    "ait_creation_year='2024'"
   ]
  },
  {
   "cell_type": "markdown",
   "metadata": {
    "deletable": false,
    "editable": false
   },
   "source": [
    "### #12 Deployment"
   ]
  },
  {
   "cell_type": "markdown",
   "metadata": {
    "deletable": false,
    "editable": false
   },
   "source": [
    "[uneditable] "
   ]
  },
  {
   "cell_type": "code",
   "execution_count": 17,
   "metadata": {
    "deletable": false,
    "editable": false
   },
   "outputs": [
    {
     "name": "stderr",
     "output_type": "stream",
     "text": [
      "/usr/local/lib/python3.9/site-packages/nbformat/json_compat.py:13: DeprecationWarning: Importing ErrorTree directly from the jsonschema package is deprecated and will become an ImportError. Import it from jsonschema.exceptions instead.\n",
      "  from jsonschema import ErrorTree\n",
      "/usr/local/lib/python3.9/site-packages/IPython/core/inputsplitter.py:21: DeprecationWarning: IPython.core.inputsplitter is deprecated since IPython 7 in favor of `IPython.core.inputtransformer2`\n",
      "  warn('IPython.core.inputsplitter is deprecated since IPython 7 in favor of `IPython.core.inputtransformer2`',\n"
     ]
    }
   ],
   "source": [
    "if not is_ait_launch:\n",
    "    from ait_sdk.deploy import prepare_deploy\n",
    "    from ait_sdk.license.license_generator import LicenseGenerator\n",
    "    \n",
    "    current_dir = %pwd\n",
    "    prepare_deploy(ait_sdk_name, current_dir, requirements_path)\n",
    "    \n",
    "    # output License.txt\n",
    "    license_generator = LicenseGenerator()\n",
    "    license_generator.write('../top_dir/LICENSE.txt', ait_creation_year, ait_owner)\n"
   ]
  },
  {
   "cell_type": "code",
   "execution_count": null,
   "metadata": {},
   "outputs": [],
   "source": []
  }
 ],
 "metadata": {
  "celltoolbar": "Edit Metadata",
  "kernelspec": {
   "display_name": "Python 3 (ipykernel)",
   "language": "python",
   "name": "python3"
  },
  "language_info": {
   "codemirror_mode": {
    "name": "ipython",
    "version": 3
   },
   "file_extension": ".py",
   "mimetype": "text/x-python",
   "name": "python",
   "nbconvert_exporter": "python",
   "pygments_lexer": "ipython3",
   "version": "3.9.13"
  },
  "vscode": {
   "interpreter": {
    "hash": "cc00c6a56d87bd8bd7773e730c60ddfdb8804da6b7537df09499efbcf81630f7"
   }
  }
 },
 "nbformat": 4,
 "nbformat_minor": 4
}
